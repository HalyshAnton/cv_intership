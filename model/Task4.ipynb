{
  "nbformat": 4,
  "nbformat_minor": 0,
  "metadata": {
    "colab": {
      "provenance": []
    },
    "kernelspec": {
      "name": "python3",
      "display_name": "Python 3"
    },
    "language_info": {
      "name": "python"
    }
  },
  "cells": [
    {
      "cell_type": "code",
      "execution_count": 1,
      "metadata": {
        "id": "u_zwXLPhOtQg"
      },
      "outputs": [],
      "source": [
        "import torch\n",
        "from torchvision.datasets import ImageFolder\n",
        "from torchvision import transforms\n",
        "\n",
        "device = \"cuda\" if torch.cuda.is_available() else \"cpu\""
      ]
    },
    {
      "cell_type": "code",
      "source": [
        "device"
      ],
      "metadata": {
        "colab": {
          "base_uri": "https://localhost:8080/",
          "height": 35
        },
        "id": "FKmZg4vS-jTU",
        "outputId": "ee2baab0-953b-4d64-e763-6ee2bc261c50"
      },
      "execution_count": 2,
      "outputs": [
        {
          "output_type": "execute_result",
          "data": {
            "text/plain": [
              "'cuda'"
            ],
            "application/vnd.google.colaboratory.intrinsic+json": {
              "type": "string"
            }
          },
          "metadata": {},
          "execution_count": 2
        }
      ]
    },
    {
      "cell_type": "code",
      "source": [
        "transform = transforms.Compose([\n",
        "    transforms.Resize((256, 256)),\n",
        "    transforms.RandomRotation(degrees=15),\n",
        "    transforms.ToTensor(),\n",
        "    transforms.Normalize(mean=[0.485, 0.456, 0.406],\n",
        "                         std=[0.229, 0.224, 0.225])\n",
        "])"
      ],
      "metadata": {
        "id": "LS_GSZkEPv5u"
      },
      "execution_count": 3,
      "outputs": []
    },
    {
      "cell_type": "code",
      "source": [
        "dataset = ImageFolder(root='/content/train', transform=transform,\n",
        "                      target_transform=lambda class_id: torch.tensor([class_id], dtype=torch.float))"
      ],
      "metadata": {
        "id": "UgK1dXuNQU35"
      },
      "execution_count": 5,
      "outputs": []
    },
    {
      "cell_type": "code",
      "source": [
        "from torch import nn\n",
        "import torch.nn.functional as F\n",
        "from torchvision import models\n",
        "\n",
        "\n",
        "class TextClassifier(nn.Module):\n",
        "    \"\"\"\n",
        "    Model with pretrained vgg19_bn feature extractor.\n",
        "    Require 256x256 input image size\n",
        "    \"\"\"\n",
        "    def __init__(self, num_classes=10):\n",
        "        super().__init__()\n",
        "\n",
        "        # pretrained model\n",
        "        vgg = models.vgg19_bn(weights=models.VGG19_BN_Weights.DEFAULT)\n",
        "\n",
        "        for param in vgg.parameters():\n",
        "            param.requires_grad = False\n",
        "\n",
        "        in_features = vgg.classifier[0].in_features\n",
        "\n",
        "        vgg.classifier = nn.Identity()\n",
        "\n",
        "        self.feature_extractor = vgg\n",
        "\n",
        "        # trainable part\n",
        "        self.dropout = nn.Dropout(0.2)\n",
        "        self.linear = nn.Linear(in_features, num_classes)\n",
        "\n",
        "\n",
        "    def forward(self, x):\n",
        "        out = self.feature_extractor(x)\n",
        "\n",
        "        out = self.dropout(out)\n",
        "        out = self.linear(out)\n",
        "        out = F.sigmoid(out)\n",
        "\n",
        "        return out\n",
        "\n",
        "\n",
        "model = TextClassifier(num_classes=1).to(device)"
      ],
      "metadata": {
        "colab": {
          "base_uri": "https://localhost:8080/"
        },
        "id": "93vb5ZAvBu7U",
        "outputId": "347335ca-e0e1-4587-9523-98e484cc2aed"
      },
      "execution_count": 6,
      "outputs": [
        {
          "output_type": "stream",
          "name": "stderr",
          "text": [
            "Downloading: \"https://download.pytorch.org/models/vgg19_bn-c79401a0.pth\" to /root/.cache/torch/hub/checkpoints/vgg19_bn-c79401a0.pth\n",
            "100%|██████████| 548M/548M [00:03<00:00, 169MB/s]\n"
          ]
        }
      ]
    },
    {
      "cell_type": "code",
      "source": [
        "loss_fn = nn.BCELoss()\n",
        "\n",
        "optimizer = torch.optim.Adam(model.parameters(), lr=0.001)\n",
        "\n",
        "scheduler = torch.optim.lr_scheduler.ReduceLROnPlateau(optimizer, patience=3)"
      ],
      "metadata": {
        "id": "_ACe3bsqB_Yj"
      },
      "execution_count": 7,
      "outputs": []
    },
    {
      "cell_type": "code",
      "source": [
        "import time\n",
        "from sklearn.model_selection import KFold\n",
        "\n",
        "\n",
        "def step(model, optimizer, loss_fn, dataloader,\n",
        "         metrics, metrics_name, device,\n",
        "         history, mode):\n",
        "    \"\"\"\n",
        "    Perform one training or validation step depending on the mode parameter.\n",
        "\n",
        "    Args:\n",
        "        model (torch.nn.Module):\n",
        "            neural network model used for training or validation\n",
        "\n",
        "        optimizer (torch.optim.Optimizer):\n",
        "            optimizer for updating model parameters\n",
        "\n",
        "        loss_fn (torch.nn.Module):\n",
        "            loss function\n",
        "\n",
        "        dataloader (torch.utils.data.DataLoader):\n",
        "            dataloader object providing batches of data\n",
        "\n",
        "        metrics (list):\n",
        "            list of functions to compute evaluation metrics\n",
        "            functions should be in form func(y_true, y_pred)\n",
        "\n",
        "        metrics_name (list):\n",
        "            list of strings representing names corresponding to each metric function in `metrics`\n",
        "\n",
        "        device (torch.device):\n",
        "            device (CPU or GPU) on which to perform computations\n",
        "\n",
        "        history (dict):\n",
        "            dictionary to store and accumulate the loss and metrics values across batches\n",
        "            if mode='val' all keys have prefix 'val_'\n",
        "\n",
        "        mode (str):\n",
        "            specifies whether to perform a training ('train') or validation ('val') step\n",
        "    \"\"\"\n",
        "\n",
        "    if mode == 'train':\n",
        "        model.train()\n",
        "        prefix = ''\n",
        "    else:\n",
        "        model.eval()\n",
        "        prefix = 'val_'\n",
        "\n",
        "    for batch in dataloader:\n",
        "        x = batch[0].to(device)\n",
        "        y = batch[1].to(device)\n",
        "        y_pred = model(x)\n",
        "        loss = loss_fn(y_pred, y)\n",
        "\n",
        "        if mode == 'train':\n",
        "            optimizer.zero_grad()\n",
        "            loss.backward()\n",
        "            optimizer.step()\n",
        "\n",
        "        y_pred = y_pred.detach().cpu().numpy()\n",
        "        y_pred = y_pred.round()\n",
        "        y = y.detach().cpu().numpy()\n",
        "\n",
        "        # multiplier factor for averaging loss amd metrics per batch\n",
        "        multiplier = x.size(0) / len(dataloader.dataset)\n",
        "\n",
        "        history[prefix+'loss'] += loss.item() * multiplier\n",
        "        for name, func in zip(metrics_name, metrics):\n",
        "            history[prefix+name] += func(y, y_pred) * multiplier\n",
        "\n",
        "\n",
        "def cross_validation_step(model, optimizer, loss_fn, dataset,\n",
        "                          metrics, metrics_name, device, kfold):\n",
        "    \"\"\"\n",
        "    Perform one cross-validation step for training and validation\n",
        "\n",
        "    Args:\n",
        "        model (torch.nn.Module):\n",
        "            neural network model used for training or validation\n",
        "\n",
        "        optimizer (torch.optim.Optimizer):\n",
        "            optimizer for updating model parameters\n",
        "\n",
        "        loss_fn (torch.nn.Module):\n",
        "            loss function\n",
        "\n",
        "        dataset (torch.utils.data.Dataset):\n",
        "            dataset object containing data for cross-validation\n",
        "\n",
        "        metrics (list):\n",
        "            list of functions to compute evaluation metrics\n",
        "            functions should be in form func(y_true, y_pred)\n",
        "\n",
        "        metrics_name (list):\n",
        "            list of strings representing names corresponding to each metric function in `metrics`\n",
        "\n",
        "        device (torch.device):\n",
        "            device (CPU or GPU) on which to perform computations\n",
        "\n",
        "        kfold (sklearn.model_selection.KFold):\n",
        "            The k-fold cross-validation object that provides train/validation\n",
        "            splits.\n",
        "\n",
        "    Returns:\n",
        "        tuple:\n",
        "            A tuple containing two dictionaries:\n",
        "            - `history_train`: A dictionary accumulating training metrics across folds\n",
        "            - `history_val`: A dictionary accumulating validation metrics across folds\n",
        "              Both dictionaries have keys for 'loss' and each metric in `metrics_name`,\n",
        "              prefixed with 'val_' for validation metrics.\n",
        "    \"\"\"\n",
        "\n",
        "    history_train = {name: 0 for name in ['loss']+metrics_name}\n",
        "    history_val = {'val_' + name: 0 for name in metrics_name+['loss']}\n",
        "\n",
        "    for train_ids, val_ids in kfold.split(dataset):\n",
        "        train_subsampler = torch.utils.data.SubsetRandomSampler(train_ids)\n",
        "        val_subsampler = torch.utils.data.SubsetRandomSampler(val_ids)\n",
        "\n",
        "        train_dl = torch.utils.data.DataLoader(dataset, batch_size=len(train_ids), sampler=train_subsampler)\n",
        "        val_dl = torch.utils.data.DataLoader(dataset, batch_size=len(train_ids), sampler=val_subsampler)\n",
        "\n",
        "        step(model, optimizer, loss_fn, train_dl,\n",
        "             metrics, metrics_name, device,\n",
        "             history_train, mode='train')\n",
        "\n",
        "        with torch.no_grad():\n",
        "            step(model, optimizer, loss_fn, val_dl,\n",
        "                 metrics, metrics_name, device,\n",
        "                 history_val, mode='val')\n",
        "\n",
        "    return history_train, history_val\n",
        "\n",
        "\n",
        "def train(model, optimizer, scheduler, loss_fn, dataset,\n",
        "          metrics=None, epochs=20, device='cpu',\n",
        "          k_folds=3):\n",
        "    '''\n",
        "    Runs training loop for classification problems. Returns Keras-style\n",
        "    per-epoch history of loss and accuracy over training and validation data\n",
        "    using cross-validation.\n",
        "\n",
        "    Args:\n",
        "        model (torch.nn.Module):\n",
        "            neural network model to be trained\n",
        "\n",
        "        optimizer (torch.optim.Optimizer)\n",
        "            optimizer algorithm for updating model parameters\n",
        "\n",
        "        scheduler (torch.optim.lr_scheduler._LRScheduler)\n",
        "            Learning rate scheduler to adjust learning rate based on validation loss\n",
        "\n",
        "        loss_fn (torch.nn.Module):\n",
        "            loss function\n",
        "\n",
        "        dataset (torch.utils.data.Dataset):\n",
        "            dataset object containing data for cross-validation\n",
        "\n",
        "        metrics (list, optional):\n",
        "            list of functions to compute evaluation metrics\n",
        "            functions should be in form func(y_true, y_pred)\n",
        "            default None\n",
        "\n",
        "        epochs (int, optional):\n",
        "            number of epochs to train the model, default 20\n",
        "\n",
        "        device (torch.device):\n",
        "            device (CPU or GPU) on which to perform computations, default cpu\n",
        "\n",
        "        k_folds (int, optional):\n",
        "            number of folds for cross-validation, default 3\n",
        "\n",
        "    Returns:\n",
        "        dict\n",
        "            dictionary containing per-epoch history of training loss, validation loss,\n",
        "            and metrics (if provided). Keys include 'loss', 'val_loss', and metrics names\n",
        "            prefixed with 'val_' for validation metrics.\n",
        "    '''\n",
        "\n",
        "    print('Start training model')\n",
        "\n",
        "    metrics = metrics if metrics else []\n",
        "    metrics_name = [metric.__name__ for metric in metrics]\n",
        "\n",
        "    history = {} # Collects per-epoch loss and metrics like keras' fit().\n",
        "    history['loss'] = []\n",
        "    history['val_loss'] = []\n",
        "    for name in metrics_name:\n",
        "        history[name] = []\n",
        "        history[f'val_{name}'] = []\n",
        "\n",
        "    kfold = KFold(n_splits=k_folds, shuffle=True)\n",
        "\n",
        "    start_time_train = time.time()\n",
        "\n",
        "    for epoch in range(epochs):\n",
        "        start_time_epoch = time.time()\n",
        "\n",
        "        history_train, history_val = cross_validation_step(\n",
        "            model, optimizer, loss_fn, dataset,\n",
        "            metrics, metrics_name, device, kfold\n",
        "            )\n",
        "\n",
        "        end_time_epoch = time.time()\n",
        "\n",
        "        for name in history_train:\n",
        "            # append mean value of metrics from cross-validation\n",
        "            history[name].append(history_train[name] / (k_folds-1))\n",
        "            history['val_'+name].append(history_val['val_'+name])\n",
        "\n",
        "        scheduler.step(history['val_loss'][-1])\n",
        "\n",
        "        total_time_epoch = end_time_epoch - start_time_epoch\n",
        "\n",
        "        print(f'Epoch {epoch+1:4d} {total_time_epoch:4.0f}sec', end='\\t')\n",
        "        for name in history_train:\n",
        "            print(f'{name}: {history[name][-1]:10.3g}', end='\\t')\n",
        "            print(f\"val_{name}: {history['val_'+name][-1]:10.3g}\", end='\\t')\n",
        "        print()\n",
        "\n",
        "    end_time_train = time.time()\n",
        "    total_time_train = end_time_train - start_time_train\n",
        "    print()\n",
        "    print(f'Time total:     {total_time_train: 5.0f}sec')\n",
        "\n",
        "    return history"
      ],
      "metadata": {
        "id": "MId5Bhtk4ARJ"
      },
      "execution_count": 8,
      "outputs": []
    },
    {
      "cell_type": "code",
      "source": [
        "from sklearn.metrics import accuracy_score, roc_auc_score\n",
        "\n",
        "history = train(model, optimizer, scheduler, loss_fn, dataset,\n",
        "                epochs=10,\n",
        "                metrics=[accuracy_score],\n",
        "                device=device,\n",
        "                k_folds=3\n",
        "                )"
      ],
      "metadata": {
        "colab": {
          "base_uri": "https://localhost:8080/"
        },
        "id": "7aK1UMvZCJHK",
        "outputId": "868a3956-9d29-4d49-fe92-c51379f3d3fa"
      },
      "execution_count": 9,
      "outputs": [
        {
          "output_type": "stream",
          "name": "stdout",
          "text": [
            "Start training model\n",
            "Epoch    1    5sec\tloss:      0.539\tval_loss:       0.61\taccuracy_score:      0.812\tval_accuracy_score:      0.786\t\n",
            "Epoch    2    3sec\tloss:      0.237\tval_loss:      0.448\taccuracy_score:      0.946\tval_accuracy_score:      0.946\t\n",
            "Epoch    3    3sec\tloss:      0.123\tval_loss:      0.283\taccuracy_score:      0.991\tval_accuracy_score:      0.964\t\n",
            "Epoch    4    4sec\tloss:     0.0762\tval_loss:      0.164\taccuracy_score:          1\tval_accuracy_score:      0.982\t\n",
            "Epoch    5    4sec\tloss:     0.0369\tval_loss:     0.0936\taccuracy_score:          1\tval_accuracy_score:          1\t\n",
            "Epoch    6    4sec\tloss:     0.0288\tval_loss:     0.0525\taccuracy_score:          1\tval_accuracy_score:          1\t\n",
            "Epoch    7    3sec\tloss:      0.022\tval_loss:     0.0455\taccuracy_score:          1\tval_accuracy_score:      0.982\t\n",
            "Epoch    8    4sec\tloss:     0.0214\tval_loss:     0.0277\taccuracy_score:          1\tval_accuracy_score:          1\t\n",
            "Epoch    9    4sec\tloss:     0.0214\tval_loss:     0.0188\taccuracy_score:          1\tval_accuracy_score:          1\t\n",
            "Epoch   10    3sec\tloss:     0.0148\tval_loss:     0.0128\taccuracy_score:          1\tval_accuracy_score:          1\t\n",
            "\n",
            "Time total:        38sec\n"
          ]
        }
      ]
    },
    {
      "cell_type": "code",
      "source": [
        "import matplotlib.pyplot as plt\n",
        "\n",
        "def plot_metric(history, name):\n",
        "    \"\"\"\n",
        "    Plot the training and validation metric over epochs.\n",
        "\n",
        "    Args:\n",
        "        history (dict):\n",
        "            dictionary containing the per-epoch history of metrics\n",
        "\n",
        "        name (str):\n",
        "            The name of the metric to plot. This should match a key in `history`\n",
        "    \"\"\"\n",
        "\n",
        "    plt.title(f\"Model results with {name}\")\n",
        "    plt.plot(history[name], label='train')\n",
        "    plt.plot(history['val_'+name], label='val')\n",
        "    plt.xlabel('Epoch')\n",
        "    plt.ylabel(name)\n",
        "    plt.legend()\n",
        "\n",
        "\n",
        "plot_metric(history, 'loss')"
      ],
      "metadata": {
        "colab": {
          "base_uri": "https://localhost:8080/",
          "height": 472
        },
        "id": "RXqtfKWvBtUt",
        "outputId": "176e959d-530c-4b5e-b6e6-983af90ed2a2"
      },
      "execution_count": 10,
      "outputs": [
        {
          "output_type": "display_data",
          "data": {
            "text/plain": [
              "<Figure size 640x480 with 1 Axes>"
            ],
            "image/png": "[encoded data removed]"
          },
          "metadata": {}
        }
      ]
    },
    {
      "cell_type": "code",
      "source": [
        "plot_metric(history, 'accuracy_score')"
      ],
      "metadata": {
        "colab": {
          "base_uri": "https://localhost:8080/",
          "height": 472
        },
        "id": "s9MwVdyjBtQL",
        "outputId": "f2e6e509-58a7-4612-eb56-083882840a2d"
      },
      "execution_count": 11,
      "outputs": [
        {
          "output_type": "display_data",
          "data": {
            "text/plain": [
              "<Figure size 640x480 with 1 Axes>"
            ],
            "image/png": "[encoded data removed]"
          },
          "metadata": {}
        }
      ]
    },
    {
      "cell_type": "code",
      "source": [
        "from sklearn.metrics import ConfusionMatrixDisplay\n",
        "\n",
        "\n",
        "loader = torch.utils.data.DataLoader(dataset, batch_size=len(dataset))\n",
        "X, y = next(iter(loader))\n",
        "\n",
        "with torch.no_grad():\n",
        "    model.eval()\n",
        "    X = X.to(device)\n",
        "    y_pred = model(X)\n",
        "    y_pred = y_pred.cpu()\n",
        "    y_pred = y_pred.round()\n",
        "\n",
        "ConfusionMatrixDisplay.from_predictions(y, y_pred, display_labels=dataset.classes)\n",
        "plt.xticks(rotation=90)\n",
        "plt.plot()"
      ],
      "metadata": {
        "colab": {
          "base_uri": "https://localhost:8080/",
          "height": 538
        },
        "id": "lthHIz2KBtHX",
        "outputId": "b3401032-8f24-4744-fc3b-e46982b0a34e"
      },
      "execution_count": 13,
      "outputs": [
        {
          "output_type": "execute_result",
          "data": {
            "text/plain": [
              "[]"
            ]
          },
          "metadata": {},
          "execution_count": 13
        },
        {
          "output_type": "display_data",
          "data": {
            "text/plain": [
              "<Figure size 640x480 with 2 Axes>"
            ],
            "image/png": "[encoded data removed]"
          },
          "metadata": {}
        }
      ]
    },
    {
      "cell_type": "code",
      "source": [
        "from sklearn.metrics import classification_report\n",
        "\n",
        "print(classification_report(y, y_pred, target_names=dataset.classes))"
      ],
      "metadata": {
        "colab": {
          "base_uri": "https://localhost:8080/"
        },
        "id": "tfFIs9KFChT7",
        "outputId": "9c352506-3a73-42b4-880a-087d67e2ccaa"
      },
      "execution_count": 14,
      "outputs": [
        {
          "output_type": "stream",
          "name": "stdout",
          "text": [
            "              precision    recall  f1-score   support\n",
            "\n",
            " Handwritten       1.00      1.00      1.00        27\n",
            "     printed       1.00      1.00      1.00        29\n",
            "\n",
            "    accuracy                           1.00        56\n",
            "   macro avg       1.00      1.00      1.00        56\n",
            "weighted avg       1.00      1.00      1.00        56\n",
            "\n"
          ]
        }
      ]
    },
    {
      "cell_type": "code",
      "source": [
        "torch.save(model.state_dict(), 'weights.pt')"
      ],
      "metadata": {
        "id": "-TGD3enYDXBH"
      },
      "execution_count": 15,
      "outputs": []
    },
    {
      "cell_type": "code",
      "source": [
        "load_model = TextClassifier(num_classes=1).to(device)\n",
        "load_model.load_state_dict(torch.load('weights.pt'))"
      ],
      "metadata": {
        "colab": {
          "base_uri": "https://localhost:8080/"
        },
        "id": "VIU4OU6IElPJ",
        "outputId": "4f3d181c-97aa-4de3-c9da-1b3c411a6443"
      },
      "execution_count": 16,
      "outputs": [
        {
          "output_type": "execute_result",
          "data": {
            "text/plain": [
              "<All keys matched successfully>"
            ]
          },
          "metadata": {},
          "execution_count": 16
        }
      ]
    },
    {
      "cell_type": "code",
      "source": [],
      "metadata": {
        "id": "XvsoyPUwFRvk"
      },
      "execution_count": null,
      "outputs": []
    }
  ]
}